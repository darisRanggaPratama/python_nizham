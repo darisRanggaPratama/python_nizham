{
 "cells": [
  {
   "cell_type": "code",
   "execution_count": 7,
   "id": "ddb75f0c-67f4-437d-96e7-9288c0cb6dd7",
   "metadata": {},
   "outputs": [],
   "source": [
    "from openpyxl import Workbook\n",
    "\n",
    "\n",
    "wb = Workbook()\n",
    "ws = wb.active\n",
    "treeData = [\n",
    "    [\"Type\", \"Leaf Color\", \"Height\"], \n",
    "    [\"Maple\", \"Red\", 549],\n",
    "    [\"Oak\", \"Green\", 783],\n",
    "    [\"Pine\", \"Green\", 1204]    \n",
    "]"
   ]
  },
  {
   "cell_type": "code",
   "execution_count": 8,
   "id": "6aee0050",
   "metadata": {},
   "outputs": [],
   "source": [
    "for row in treeData:\n",
    "    ws.append(row)"
   ]
  },
  {
   "cell_type": "code",
   "execution_count": 10,
   "id": "1945dde0-0c7a-4f9f-ac86-d301960a4c8f",
   "metadata": {},
   "outputs": [],
   "source": [
    "from openpyxl.styles import Font\n",
    "ft = Font(bold=True)\n",
    "for row in ws[\"A1:C1\"]:\n",
    "    for cell in row:\n",
    "        cell.font = ft"
   ]
  },
  {
   "cell_type": "code",
   "execution_count": 12,
   "id": "7feac54b-07d1-490d-aee5-62977d21958f",
   "metadata": {},
   "outputs": [],
   "source": [
    "from openpyxl.chart import BarChart, Series, Reference\n",
    "\n",
    "chart = BarChart()\n",
    "chart.type = \"col\"\n",
    "chart.title = \"Tree Height\"\n",
    "chart.y_axis.title = 'Height (cm)'\n",
    "chart.x_axis.tiele = 'Tree Type'\n",
    "chart.legend = None"
   ]
  },
  {
   "cell_type": "code",
   "execution_count": 18,
   "id": "d6f6c6e1-a5a9-4ad5-ad17-737fe57c1017",
   "metadata": {},
   "outputs": [],
   "source": [
    "data = Reference(ws, min_col=3, min_row=2, max_row=4, max_col=3)\n",
    "categories = Reference(ws, min_col=1, min_row=2, max_row=4, max_col=1)\n",
    "chart.add_data(data)\n",
    "chart.set_categories(categories)"
   ]
  },
  {
   "cell_type": "code",
   "execution_count": 19,
   "id": "6a0bcd7a-a520-4081-9e79-fa247708d9af",
   "metadata": {},
   "outputs": [],
   "source": [
    "ws.add_chart(chart, \"E1\")\n",
    "wb.save(\"TreeData.xlsx\")"
   ]
  },
  {
   "cell_type": "code",
   "execution_count": null,
   "id": "76da3598-3f61-4226-a2d4-12718febd985",
   "metadata": {},
   "outputs": [],
   "source": []
  }
 ],
 "metadata": {
  "kernelspec": {
   "display_name": "Python 3 (ipykernel)",
   "language": "python",
   "name": "python3"
  },
  "language_info": {
   "codemirror_mode": {
    "name": "ipython",
    "version": 3
   },
   "file_extension": ".py",
   "mimetype": "text/x-python",
   "name": "python",
   "nbconvert_exporter": "python",
   "pygments_lexer": "ipython3",
   "version": "3.11.1"
  },
  "vscode": {
   "interpreter": {
    "hash": "df75aebe1004d21fcfa1f823cf30566438b452704ee7f89bc50fc9bc9c3ddb14"
   }
  }
 },
 "nbformat": 4,
 "nbformat_minor": 5
}
